{
 "cells": [
  {
   "cell_type": "markdown",
   "id": "ae53b9d9",
   "metadata": {},
   "source": [
    "## [Stable Diffusion WebUI](https://github.com/AUTOMATIC1111/stable-diffusion-webui) NoteBook for sagemaker studio lab\n",
    "\n",
    " [![Open In SageMaker Studio Lab](https://studiolab.sagemaker.aws/studiolab.svg)](https://studiolab.sagemaker.aws/import/github/fkunn1326/notebooks/blob/main/automatic1111.ipynb) "
   ]
  },
  {
   "cell_type": "markdown",
   "id": "d7121124",
   "metadata": {},
   "source": [
    "### GPU等の情報の確認"
   ]
  },
  {
   "cell_type": "code",
   "execution_count": 1,
   "id": "c9e29d06-184a-4102-b260-3dfd4307240a",
   "metadata": {
    "tags": []
   },
   "outputs": [
    {
     "name": "stdout",
     "output_type": "stream",
     "text": [
      "Tue Jan  3 01:30:37 2023       \n",
      "+-----------------------------------------------------------------------------+\n",
      "| NVIDIA-SMI 470.57.02    Driver Version: 470.57.02    CUDA Version: 11.4     |\n",
      "|-------------------------------+----------------------+----------------------+\n",
      "| GPU  Name        Persistence-M| Bus-Id        Disp.A | Volatile Uncorr. ECC |\n",
      "| Fan  Temp  Perf  Pwr:Usage/Cap|         Memory-Usage | GPU-Util  Compute M. |\n",
      "|                               |                      |               MIG M. |\n",
      "|===============================+======================+======================|\n",
      "|   0  Tesla T4            Off  | 00000000:00:1E.0 Off |                    0 |\n",
      "| N/A   33C    P0    25W /  70W |      0MiB / 15109MiB |      0%      Default |\n",
      "|                               |                      |                  N/A |\n",
      "+-------------------------------+----------------------+----------------------+\n",
      "                                                                               \n",
      "+-----------------------------------------------------------------------------+\n",
      "| Processes:                                                                  |\n",
      "|  GPU   GI   CI        PID   Type   Process name                  GPU Memory |\n",
      "|        ID   ID                                                   Usage      |\n",
      "|=============================================================================|\n",
      "|  No running processes found                                                 |\n",
      "+-----------------------------------------------------------------------------+\n",
      "nvcc: NVIDIA (R) Cuda compiler driver\n",
      "Copyright (c) 2005-2021 NVIDIA Corporation\n",
      "Built on Sun_Feb_14_21:12:58_PST_2021\n",
      "Cuda compilation tools, release 11.2, V11.2.152\n",
      "Build cuda_11.2.r11.2/compiler.29618528_0\n",
      "              total        used        free      shared  buff/cache   available\n",
      "Mem:           15Gi       1.7Gi       1.1Gi       0.0Ki        12Gi        13Gi\n",
      "Swap:            0B          0B          0B\n"
     ]
    }
   ],
   "source": [
    "!nvidia-smi\n",
    "!nvcc -V\n",
    "!free -h"
   ]
  },
  {
   "cell_type": "markdown",
   "id": "3692e7d6",
   "metadata": {},
   "source": [
    "### 依存関係、モデル、Webuiのクローン（初回のみ）"
   ]
  },
  {
   "cell_type": "code",
   "execution_count": 2,
   "id": "9f7d660e",
   "metadata": {},
   "outputs": [
    {
     "name": "stdout",
     "output_type": "stream",
     "text": [
      "Note: you may need to restart the kernel to use updated packages.\n",
      "Cloning into 'stable-diffusion-webui'...\n",
      "remote: Enumerating objects: 12954, done.\u001b[K\n",
      "remote: Counting objects: 100% (162/162), done.\u001b[K\n",
      "remote: Compressing objects: 100% (89/89), done.\u001b[K\n",
      "remote: Total 12954 (delta 95), reused 118 (delta 71), pack-reused 12792\u001b[K\n",
      "Receiving objects: 100% (12954/12954), 25.39 MiB | 53.49 MiB/s, done.\n",
      "Resolving deltas: 100% (9010/9010), done.\n",
      "--2023-01-03 02:38:51--  https://huggingface.co/hakurei/waifu-diffusion-v1-4/resolve/main/wd-1-4-anime_e1.ckpt\n",
      "Resolving huggingface.co (huggingface.co)... 18.235.116.140, 54.144.222.129, 2600:1f18:147f:e800:8e23:1296:56ee:cadc, ...\n",
      "Connecting to huggingface.co (huggingface.co)|18.235.116.140|:443... connected.\n",
      "HTTP request sent, awaiting response... 302 Found\n",
      "Location: https://cdn-lfs.huggingface.co/repos/79/67/7967022b375f7b6dc4e08fbd7a59bec0715529069c44ed775306c857b734e0af/e8f4b2225b8ac6464e9d13d25b708349b1ca340c92dfc3575e8d5ef18f689457?response-content-disposition=attachment%3B%20filename%3D%22wd-1-4-anime_e1.ckpt%22&Expires=1672936851&Policy=eyJTdGF0ZW1lbnQiOlt7IlJlc291cmNlIjoiaHR0cHM6Ly9jZG4tbGZzLmh1Z2dpbmdmYWNlLmNvL3JlcG9zLzc5LzY3Lzc5NjcwMjJiMzc1ZjdiNmRjNGUwOGZiZDdhNTliZWMwNzE1NTI5MDY5YzQ0ZWQ3NzUzMDZjODU3YjczNGUwYWYvZThmNGIyMjI1YjhhYzY0NjRlOWQxM2QyNWI3MDgzNDliMWNhMzQwYzkyZGZjMzU3NWU4ZDVlZjE4ZjY4OTQ1Nz9yZXNwb25zZS1jb250ZW50LWRpc3Bvc2l0aW9uPWF0dGFjaG1lbnQlM0IlMjBmaWxlbmFtZSUzRCUyMndkLTEtNC1hbmltZV9lMS5ja3B0JTIyIiwiQ29uZGl0aW9uIjp7IkRhdGVMZXNzVGhhbiI6eyJBV1M6RXBvY2hUaW1lIjoxNjcyOTM2ODUxfX19XX0_&Signature=uhil1EZQFUmlGIIYgtd0czI5tggEXasb0QrWrALUzpECUO9BQRPVHoADA9leXzWxXqmfEE3LYwoxPMSu8TVLeRHLdQflTX4Gte8MnShpl74P5sLkI1Qu3n~AL8cl92GyLdiSjmTRf7D9ksOn2jffrq6hVdOYcCmblzs7BREJ137rCXx~Q3YC0w10sUCoTeYEJ2iezBM-8~4Z8XV3mHjXjT~x7kPNUTpkqU01he1auJdzRYETP8GuUKdnnsP3MvMsldqhSJyCJ2-z~c~Yh-wlvWw~fcvrAw8Dg9pUemCd6Gzz0JKUTQe2On1g75cVRqKTD8EW9VS7c9eeHvfsOxe-lQ__&Key-Pair-Id=KVTP0A1DKRTAX [following]\n",
      "--2023-01-03 02:38:51--  https://cdn-lfs.huggingface.co/repos/79/67/7967022b375f7b6dc4e08fbd7a59bec0715529069c44ed775306c857b734e0af/e8f4b2225b8ac6464e9d13d25b708349b1ca340c92dfc3575e8d5ef18f689457?response-content-disposition=attachment%3B%20filename%3D%22wd-1-4-anime_e1.ckpt%22&Expires=1672936851&Policy=eyJTdGF0ZW1lbnQiOlt7IlJlc291cmNlIjoiaHR0cHM6Ly9jZG4tbGZzLmh1Z2dpbmdmYWNlLmNvL3JlcG9zLzc5LzY3Lzc5NjcwMjJiMzc1ZjdiNmRjNGUwOGZiZDdhNTliZWMwNzE1NTI5MDY5YzQ0ZWQ3NzUzMDZjODU3YjczNGUwYWYvZThmNGIyMjI1YjhhYzY0NjRlOWQxM2QyNWI3MDgzNDliMWNhMzQwYzkyZGZjMzU3NWU4ZDVlZjE4ZjY4OTQ1Nz9yZXNwb25zZS1jb250ZW50LWRpc3Bvc2l0aW9uPWF0dGFjaG1lbnQlM0IlMjBmaWxlbmFtZSUzRCUyMndkLTEtNC1hbmltZV9lMS5ja3B0JTIyIiwiQ29uZGl0aW9uIjp7IkRhdGVMZXNzVGhhbiI6eyJBV1M6RXBvY2hUaW1lIjoxNjcyOTM2ODUxfX19XX0_&Signature=uhil1EZQFUmlGIIYgtd0czI5tggEXasb0QrWrALUzpECUO9BQRPVHoADA9leXzWxXqmfEE3LYwoxPMSu8TVLeRHLdQflTX4Gte8MnShpl74P5sLkI1Qu3n~AL8cl92GyLdiSjmTRf7D9ksOn2jffrq6hVdOYcCmblzs7BREJ137rCXx~Q3YC0w10sUCoTeYEJ2iezBM-8~4Z8XV3mHjXjT~x7kPNUTpkqU01he1auJdzRYETP8GuUKdnnsP3MvMsldqhSJyCJ2-z~c~Yh-wlvWw~fcvrAw8Dg9pUemCd6Gzz0JKUTQe2On1g75cVRqKTD8EW9VS7c9eeHvfsOxe-lQ__&Key-Pair-Id=KVTP0A1DKRTAX\n",
      "Resolving cdn-lfs.huggingface.co (cdn-lfs.huggingface.co)... 108.156.184.106, 108.156.184.7, 108.156.184.22, ...\n",
      "Connecting to cdn-lfs.huggingface.co (cdn-lfs.huggingface.co)|108.156.184.106|:443... connected.\n",
      "HTTP request sent, awaiting response... 200 OK\n",
      "Length: 5160236290 (4.8G) [binary/octet-stream]\n",
      "Saving to: ‘./stable-diffusion-webui/models/Stable-diffusion/wd-1-4-anime_e1.ckpt’\n",
      "\n",
      "./stable-diffusion- 100%[===================>]   4.81G  80.4MB/s    in 57s     \n",
      "\n",
      "2023-01-03 02:39:49 (85.6 MB/s) - ‘./stable-diffusion-webui/models/Stable-diffusion/wd-1-4-anime_e1.ckpt’ saved [5160236290/5160236290]\n",
      "\n",
      "--2023-01-03 02:39:49--  https://huggingface.co/hakurei/waifu-diffusion-v1-4/raw/main/wd-1-4-anime_e1.yaml\n",
      "Resolving huggingface.co (huggingface.co)... 54.144.222.129, 18.235.116.140, 2600:1f18:147f:e850:b417:4b2b:5ac:7308, ...\n",
      "Connecting to huggingface.co (huggingface.co)|54.144.222.129|:443... connected.\n",
      "HTTP request sent, awaiting response... 200 OK\n",
      "Length: 1856 (1.8K) [text/plain]\n",
      "Saving to: ‘./stable-diffusion-webui/models/Stable-diffusion/wd-1-4-anime_e1.yaml’\n",
      "\n",
      "./stable-diffusion- 100%[===================>]   1.81K  --.-KB/s    in 0s      \n",
      "\n",
      "2023-01-03 02:39:49 (386 MB/s) - ‘./stable-diffusion-webui/models/Stable-diffusion/wd-1-4-anime_e1.yaml’ saved [1856/1856]\n",
      "\n"
     ]
    }
   ],
   "source": [
    "%pip install -q https://raw.githubusercontent.com/TheLastBen/fast-stable-diffusion/main/precompiled/T4/xformers-0.0.13.dev0-py3-none-any.whl\n",
    "%conda install glib=2.51.0 -y\n",
    "!git clone https://github.com/AUTOMATIC1111/stable-diffusion-webui.git\n",
    "!wget https://huggingface.co/hakurei/waifu-diffusion-v1-4/resolve/main/wd-1-4-anime_e1.ckpt -O ./stable-diffusion-webui/models/Stable-diffusion/wd-1-4-anime_e1.ckpt\n",
    "!wget https://huggingface.co/hakurei/waifu-diffusion-v1-4/raw/main/wd-1-4-anime_e1.yaml -O ./stable-diffusion-webui/models/Stable-diffusion/wd-1-4-anime_e1.yaml"
   ]
  },
  {
   "cell_type": "markdown",
   "id": "eaf4622a",
   "metadata": {},
   "source": [
    "### Webuiの起動"
   ]
  },
  {
   "cell_type": "code",
   "execution_count": 2,
   "id": "4a9e13f6",
   "metadata": {},
   "outputs": [
    {
     "name": "stdout",
     "output_type": "stream",
     "text": [
      "[Errno 2] No such file or directory: 'stable-diffusion-webui'\n",
      "/home/studio-lab-user/stable-diffusion-webui\n",
      "Python 3.9.13 | packaged by conda-forge | (main, May 27 2022, 16:58:50) \n",
      "[GCC 10.3.0]\n",
      "Commit hash: 251ecee6949c36e9df1d99a950b3e1af2b5fa2b6\n",
      "Installing requirements for Web UI\n",
      "Launching Web UI with arguments: --xformers --gradio-auth fkunn1326:fkd-13628@stu\n",
      "Loading config from: /home/studio-lab-user/stable-diffusion-webui/models/Stable-diffusion/wd-1-4-anime_e1.yaml\n",
      "LatentDiffusion: Running in eps-prediction mode\n",
      "DiffusionWrapper has 865.91 M params.\n",
      "Loading weights [8cbce067] from /home/studio-lab-user/stable-diffusion-webui/models/Stable-diffusion/wd-1-4-anime_e1.ckpt\n",
      "Applying xformers cross attention optimization.\n",
      "Model loaded.\n",
      "Textual inversion embeddings loaded(0): \n",
      "Running on local URL:  http://127.0.0.1:7860\n",
      "\n",
      "To create a public link, set `share=True` in `launch()`.\n",
      "WARNING:multipart.multipart:Consuming a byte in the end state\n",
      "WARNING:multipart.multipart:Consuming a byte in the end state\n",
      "WARNING:multipart.multipart:Consuming a byte in the end state\n",
      "WARNING:multipart.multipart:Consuming a byte in the end state\n",
      "  0%|                                                    | 0/20 [00:00<?, ?it/s]\n",
      "  5%|██▏                                         | 1/20 [00:05<01:41,  5.36s/it]\n",
      " 15%|██████▌                                     | 3/20 [00:05<00:22,  1.30s/it]\n",
      " 25%|███████████                                 | 5/20 [00:05<00:08,  1.71it/s]\n",
      " 30%|█████████████▏                              | 6/20 [00:06<00:06,  2.30it/s]\n",
      " 35%|███████████████▍                            | 7/20 [00:06<00:04,  2.94it/s]\n",
      " 40%|█████████████████▌                          | 8/20 [00:06<00:03,  3.62it/s]\n",
      " 45%|███████████████████▊                        | 9/20 [00:06<00:02,  4.31it/s]\n",
      " 50%|█████████████████████▌                     | 10/20 [00:06<00:02,  4.96it/s]\n",
      " 55%|███████████████████████▋                   | 11/20 [00:06<00:01,  5.51it/s]\n",
      " 60%|█████████████████████████▊                 | 12/20 [00:06<00:01,  6.00it/s]\n",
      " 65%|███████████████████████████▉               | 13/20 [00:06<00:01,  6.38it/s]\n",
      " 70%|██████████████████████████████             | 14/20 [00:07<00:00,  6.63it/s]\n",
      " 75%|████████████████████████████████▎          | 15/20 [00:07<00:00,  6.82it/s]\n",
      " 80%|██████████████████████████████████▍        | 16/20 [00:07<00:00,  6.97it/s]\n",
      " 85%|████████████████████████████████████▌      | 17/20 [00:07<00:00,  7.09it/s]\n",
      " 90%|██████████████████████████████████████▋    | 18/20 [00:07<00:00,  7.16it/s]\n",
      " 95%|████████████████████████████████████████▊  | 19/20 [00:07<00:00,  7.23it/s]\n",
      "100%|███████████████████████████████████████████| 20/20 [00:07<00:00,  2.52it/s]\n",
      "Total progress: 20it [00:07,  2.84it/s]\n",
      "  0%|                                                    | 0/20 [00:00<?, ?it/s]\n",
      "  5%|██▏                                         | 1/20 [00:01<00:34,  1.81s/it]\u001b[A\n",
      " 15%|██████▌                                     | 3/20 [00:02<00:09,  1.88it/s]\u001b[A\n",
      " 20%|████████▊                                   | 4/20 [00:02<00:06,  2.58it/s]\u001b[A\n",
      " 25%|███████████                                 | 5/20 [00:02<00:04,  3.25it/s]\u001b[A\n",
      " 30%|█████████████▏                              | 6/20 [00:02<00:03,  3.87it/s]\u001b[A\n",
      " 35%|███████████████▍                            | 7/20 [00:02<00:02,  4.39it/s]\u001b[A\n",
      " 40%|█████████████████▌                          | 8/20 [00:02<00:02,  4.84it/s]\u001b[A\n",
      " 45%|███████████████████▊                        | 9/20 [00:03<00:02,  5.18it/s]\u001b[A\n",
      " 50%|█████████████████████▌                     | 10/20 [00:03<00:01,  5.43it/s]\u001b[A\n",
      " 55%|███████████████████████▋                   | 11/20 [00:03<00:01,  5.61it/s]\u001b[A\n",
      " 60%|█████████████████████████▊                 | 12/20 [00:03<00:01,  5.74it/s]\u001b[A\n",
      " 65%|███████████████████████████▉               | 13/20 [00:03<00:01,  5.83it/s]\u001b[A\n",
      " 70%|██████████████████████████████             | 14/20 [00:03<00:01,  5.91it/s]\u001b[A\n",
      " 75%|████████████████████████████████▎          | 15/20 [00:04<00:00,  5.97it/s]\u001b[A\n",
      " 80%|██████████████████████████████████▍        | 16/20 [00:04<00:00,  6.02it/s]\u001b[A\n",
      " 85%|████████████████████████████████████▌      | 17/20 [00:04<00:00,  6.05it/s]\u001b[A\n",
      " 90%|██████████████████████████████████████▋    | 18/20 [00:04<00:00,  6.06it/s]\u001b[A\n",
      " 95%|████████████████████████████████████████▊  | 19/20 [00:04<00:00,  6.05it/s]\u001b[A\n",
      "100%|███████████████████████████████████████████| 20/20 [00:04<00:00,  4.06it/s]\u001b[A\n",
      "Total progress: 100%|███████████████████████████| 20/20 [00:03<00:00,  5.82it/s]\n",
      "  0%|                                                    | 0/20 [00:00<?, ?it/s]\n",
      "  5%|██▏                                         | 1/20 [00:00<00:04,  4.46it/s]\u001b[A\n",
      " 15%|██████▌                                     | 3/20 [00:00<00:03,  5.65it/s]\u001b[A\n",
      " 20%|████████▊                                   | 4/20 [00:00<00:02,  5.85it/s]\u001b[A\n",
      " 25%|███████████                                 | 5/20 [00:00<00:02,  5.95it/s]\u001b[A\n",
      " 30%|█████████████▏                              | 6/20 [00:01<00:02,  6.00it/s]\u001b[A\n",
      " 35%|███████████████▍                            | 7/20 [00:01<00:02,  6.01it/s]\u001b[A\n",
      " 40%|█████████████████▌                          | 8/20 [00:01<00:01,  6.03it/s]\u001b[A\n",
      " 45%|███████████████████▊                        | 9/20 [00:01<00:01,  6.04it/s]\u001b[A\n",
      " 50%|█████████████████████▌                     | 10/20 [00:01<00:01,  6.06it/s]\u001b[A\n",
      " 55%|███████████████████████▋                   | 11/20 [00:01<00:01,  6.07it/s]\u001b[A\n",
      " 60%|█████████████████████████▊                 | 12/20 [00:02<00:01,  6.06it/s]\u001b[A\n",
      " 65%|███████████████████████████▉               | 13/20 [00:02<00:01,  6.06it/s]\u001b[A\n",
      " 70%|██████████████████████████████             | 14/20 [00:02<00:00,  6.07it/s]\u001b[A\n",
      " 75%|████████████████████████████████▎          | 15/20 [00:02<00:00,  6.07it/s]\u001b[A\n",
      " 80%|██████████████████████████████████▍        | 16/20 [00:02<00:00,  6.10it/s]\u001b[A\n",
      " 85%|████████████████████████████████████▌      | 17/20 [00:02<00:00,  6.09it/s]\u001b[A\n",
      " 90%|██████████████████████████████████████▋    | 18/20 [00:03<00:00,  6.07it/s]\u001b[A\n",
      " 95%|████████████████████████████████████████▊  | 19/20 [00:03<00:00,  6.07it/s]\u001b[A\n",
      "100%|███████████████████████████████████████████| 20/20 [00:03<00:00,  5.98it/s]\u001b[A\n",
      "Total progress: 100%|███████████████████████████| 20/20 [00:03<00:00,  5.80it/s]\n",
      "  0%|                                                    | 0/20 [00:00<?, ?it/s]\n",
      "  5%|██▏                                         | 1/20 [00:00<00:05,  3.76it/s]\u001b[A\n",
      " 15%|██████▌                                     | 3/20 [00:00<00:03,  5.38it/s]\u001b[A\n",
      " 20%|████████▊                                   | 4/20 [00:00<00:02,  5.66it/s]\u001b[A\n",
      " 25%|███████████                                 | 5/20 [00:00<00:02,  5.82it/s]\u001b[A\n",
      " 30%|█████████████▏                              | 6/20 [00:01<00:02,  5.92it/s]\u001b[A\n",
      " 35%|███████████████▍                            | 7/20 [00:01<00:02,  5.93it/s]\u001b[A\n",
      " 40%|█████████████████▌                          | 8/20 [00:01<00:02,  5.94it/s]\u001b[A\n",
      " 45%|███████████████████▊                        | 9/20 [00:01<00:01,  5.98it/s]\u001b[A\n",
      " 50%|█████████████████████▌                     | 10/20 [00:01<00:01,  6.02it/s]\u001b[A\n",
      " 55%|███████████████████████▋                   | 11/20 [00:01<00:01,  6.05it/s]\u001b[A\n",
      " 60%|█████████████████████████▊                 | 12/20 [00:02<00:01,  6.08it/s]\u001b[A\n",
      " 65%|███████████████████████████▉               | 13/20 [00:02<00:01,  6.06it/s]\u001b[A\n",
      " 70%|██████████████████████████████             | 14/20 [00:02<00:00,  6.04it/s]\u001b[A\n",
      " 75%|████████████████████████████████▎          | 15/20 [00:02<00:00,  6.04it/s]\u001b[A\n",
      " 80%|██████████████████████████████████▍        | 16/20 [00:02<00:00,  6.04it/s]\u001b[A\n",
      " 85%|████████████████████████████████████▌      | 17/20 [00:02<00:00,  6.05it/s]\u001b[A\n",
      " 90%|██████████████████████████████████████▋    | 18/20 [00:03<00:00,  6.06it/s]\u001b[A\n",
      " 95%|████████████████████████████████████████▊  | 19/20 [00:03<00:00,  6.08it/s]\u001b[A\n",
      "100%|███████████████████████████████████████████| 20/20 [00:03<00:00,  5.90it/s]\u001b[A\n",
      "Total progress: 100%|███████████████████████████| 20/20 [00:03<00:00,  5.78it/s]\n",
      "  0%|                                                    | 0/20 [00:00<?, ?it/s]\n",
      "  5%|██▏                                         | 1/20 [00:00<00:04,  4.46it/s]\u001b[A\n",
      " 15%|██████▌                                     | 3/20 [00:00<00:03,  5.60it/s]\u001b[A\n",
      " 20%|████████▊                                   | 4/20 [00:00<00:02,  5.78it/s]\u001b[A\n",
      " 25%|███████████                                 | 5/20 [00:00<00:02,  5.88it/s]\u001b[A\n",
      " 30%|█████████████▏                              | 6/20 [00:01<00:02,  5.94it/s]\u001b[A\n",
      " 35%|███████████████▍                            | 7/20 [00:01<00:02,  5.97it/s]\u001b[A\n",
      " 40%|█████████████████▌                          | 8/20 [00:01<00:02,  5.98it/s]\u001b[A\n",
      " 45%|███████████████████▊                        | 9/20 [00:01<00:01,  6.00it/s]\u001b[A\n",
      " 50%|█████████████████████▌                     | 10/20 [00:01<00:01,  6.01it/s]\u001b[A\n",
      " 55%|███████████████████████▋                   | 11/20 [00:01<00:01,  6.02it/s]\u001b[A\n",
      " 60%|█████████████████████████▊                 | 12/20 [00:02<00:01,  6.04it/s]\u001b[A\n",
      " 65%|███████████████████████████▉               | 13/20 [00:02<00:01,  6.05it/s]\u001b[A\n",
      " 70%|██████████████████████████████             | 14/20 [00:02<00:00,  6.05it/s]\u001b[A\n",
      " 75%|████████████████████████████████▎          | 15/20 [00:02<00:00,  6.04it/s]\u001b[A\n",
      " 80%|██████████████████████████████████▍        | 16/20 [00:02<00:00,  6.03it/s]\u001b[A\n",
      " 85%|████████████████████████████████████▌      | 17/20 [00:02<00:00,  6.03it/s]\u001b[A\n",
      " 90%|██████████████████████████████████████▋    | 18/20 [00:03<00:00,  6.06it/s]\u001b[A\n",
      " 95%|████████████████████████████████████████▊  | 19/20 [00:03<00:00,  6.07it/s]\u001b[A\n",
      "100%|███████████████████████████████████████████| 20/20 [00:03<00:00,  5.95it/s]\u001b[A\n",
      "Total progress: 100%|███████████████████████████| 20/20 [00:03<00:00,  5.80it/s]\n",
      "^C\n",
      "Interrupted with signal 2 in <frame at 0x7f0311d7ad40, file '/home/studio-lab-user/stable-diffusion-webui/webui.py', line 109, code wait_on_server>\n"
     ]
    }
   ],
   "source": [
    "%cd stable-diffusion-webui\n",
    "!python launch.py --xformers --gradio-auth user:password"
   ]
  },
  {
   "cell_type": "code",
   "execution_count": 8,
   "id": "cdda685c",
   "metadata": {},
   "outputs": [
    {
     "name": "stdout",
     "output_type": "stream",
     "text": [
      "sha256sum: stable-diffusion-webui/models/Stable-diffusion/wd-1-4-anime_e1.ckpt: No such file or directory\n"
     ]
    }
   ],
   "source": [
    "# チェックサム表示\n",
    "!sha256sum stable-diffusion-webui/models/Stable-diffusion/wd-1-4-anime_e1.ckpt"
   ]
  },
  {
   "cell_type": "code",
   "execution_count": 7,
   "id": "0bb11ef4",
   "metadata": {},
   "outputs": [
    {
     "name": "stdout",
     "output_type": "stream",
     "text": [
      "              total        used        free      shared  buff/cache   available\n",
      "Mem:           15Gi       1.4Gi       9.7Gi       0.0Ki       4.3Gi        13Gi\n",
      "Swap:            0B          0B          0B\n"
     ]
    }
   ],
   "source": [
    "# 容量確認\n",
    "!free -h"
   ]
  }
 ],
 "metadata": {
  "kernelspec": {
   "display_name": "default",
   "language": "python",
   "name": "python3"
  },
  "language_info": {
   "codemirror_mode": {
    "name": "ipython",
    "version": 3
   },
   "file_extension": ".py",
   "mimetype": "text/x-python",
   "name": "python",
   "nbconvert_exporter": "python",
   "pygments_lexer": "ipython3",
   "version": "3.9.13"
  },
  "vscode": {
   "interpreter": {
    "hash": "8d839724f1da5161bf52251fcabd91ab51516a641e3afd4044efadd11f14afce"
   }
  }
 },
 "nbformat": 4,
 "nbformat_minor": 5
}
